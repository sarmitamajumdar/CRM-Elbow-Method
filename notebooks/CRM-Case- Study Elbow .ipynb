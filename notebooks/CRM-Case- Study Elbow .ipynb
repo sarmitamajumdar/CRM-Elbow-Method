{
 "cells": [
  {
   "cell_type": "markdown",
   "id": "42ba3b78-ed33-4b66-b66e-667c8e636d31",
   "metadata": {},
   "source": [
    "### CRM Case Study: Using the Elbow Method for Customer Complaint Analysis"
   ]
  },
  {
   "cell_type": "markdown",
   "id": "c47a68f1-dd68-46e6-bd00-40f127cd0a61",
   "metadata": {},
   "source": [
    "### Case Study:- For e.g. an E-Commerce Company\n",
    "##### Background:\n",
    "- ShopEase, a leading e-commerce retailer, receives thousands of customer complaints daily through:\n",
    "\n",
    "  \n",
    "-  Emails\n",
    "-  Live Chat\n",
    "-  Social Media\n",
    "-  Customer Support Calls\n",
    "The CRM team struggles to manually categorize complaints, leading to delays in resolutions and customer dissatisfaction.\n",
    "  \n",
    "\n",
    "### Solution: Using the Elbow Method & K-Means Clustering\n",
    "#### Collect Customer Complaints\n",
    "\n",
    "- Customer ID\n",
    "- Feedback (text complaints)\n",
    "- Purchase History\n",
    "- Issue Type (if available)\n"
   ]
  },
  {
   "cell_type": "markdown",
   "id": "1524303c-dee0-4a20-9386-53af07860dff",
   "metadata": {},
   "source": [
    "### Python implementation"
   ]
  },
  {
   "cell_type": "code",
   "execution_count": 4,
   "id": "a388029d-efed-4d92-a420-71ff562fbcd2",
   "metadata": {},
   "outputs": [],
   "source": [
    "import pandas as pd\n",
    "import matplotlib.pyplot as plt\n",
    "from sklearn.feature_extraction.text import TfidfVectorizer\n",
    "from sklearn.cluster import KMeans\n"
   ]
  },
  {
   "cell_type": "code",
   "execution_count": 5,
   "id": "c1913967-fca1-4cf5-8cb3-c52eb7a9f52c",
   "metadata": {},
   "outputs": [
    {
     "name": "stdout",
     "output_type": "stream",
     "text": [
      "Fixed Columns: ['customer_id', 'feedback', 'complaint_type', 'purchase_history']\n",
      "  customer_id                                           feedback  \\\n",
      "0         101          The product stopped working within a week   \n",
      "1         102  The delivery was late by 3 days no update was ...   \n",
      "2         103            Customer support was unhelpful and rude   \n",
      "3         104           The app crashes frequently please fix it   \n",
      "4         105                 Received a wrong item unacceptable   \n",
      "\n",
      "     complaint_type purchase_history  \n",
      "0    Product Defect                5  \n",
      "1     Late Delivery                2  \n",
      "2  Customer Service                3  \n",
      "3   Technical Issue                4  \n",
      "4     Wrong Product                2  \n"
     ]
    }
   ],
   "source": [
    "# Read CSV and force pandas to split properly\n",
    "df = pd.read_csv(\"customer_feedback.csv\", sep=\",\", encoding=\"utf-8\")\n",
    "\n",
    "# Split first row into actual column names\n",
    "if len(df.columns) == 1:\n",
    "    df = df[df.columns[0]].str.split(\",\", expand=True)\n",
    "    df.columns = ['customer_id', 'feedback', 'complaint_type', 'purchase_history']\n",
    "\n",
    "print(\"Fixed Columns:\", df.columns.tolist())\n",
    "\n",
    "# Verify output\n",
    "print(df.head())  "
   ]
  },
  {
   "cell_type": "markdown",
   "id": "8f7ada2b-e96e-4aaa-8f90-2b78f31fb7d9",
   "metadata": {},
   "source": [
    "### # Convert feedback into numerical vectors using TF-IDF"
   ]
  },
  {
   "cell_type": "code",
   "execution_count": 7,
   "id": "a73d1342-84e3-4d89-813b-71060b8d043b",
   "metadata": {},
   "outputs": [],
   "source": [
    "# Convert feedback into numerical vectors using TF-IDF\n",
    "vectorizer = TfidfVectorizer(stop_words='english')\n",
    "X = vectorizer.fit_transform(df['feedback'])\n"
   ]
  },
  {
   "cell_type": "markdown",
   "id": "570f9428-4b52-4f4e-9795-ac27bf969a41",
   "metadata": {},
   "source": [
    "### Apply the Elbow Method to Find Optimal Clusters\n",
    "- Run K-Means for multiple values of k.\n",
    "- Calculate inertia (WCSS - Within-Cluster Sum of Squares).\n",
    "- Plot Elbow Curve to find the best k."
   ]
  },
  {
   "cell_type": "code",
   "execution_count": 8,
   "id": "0f026bec-4e10-414c-a752-d3e9a99052c5",
   "metadata": {},
   "outputs": [],
   "source": [
    "inertia = []\n",
    "cluster_range = range(2, 10)\n",
    "\n",
    "for k in cluster_range:\n",
    "    kmeans = KMeans(n_clusters=k, random_state=42, n_init=10)\n",
    "    kmeans.fit(X)\n",
    "    inertia.append(kmeans.inertia_)\n",
    "\n"
   ]
  },
  {
   "cell_type": "markdown",
   "id": "ed8e14fd-ba56-408b-bc71-1794c354398d",
   "metadata": {},
   "source": [
    "### Plot Elbow Curve"
   ]
  },
  {
   "cell_type": "code",
   "execution_count": 9,
   "id": "404d9201-156a-4af5-98ed-a87e2a20ead7",
   "metadata": {},
   "outputs": [
    {
     "data": {
      "image/png": "[encoded data removed]",
      "text/plain": [
       "<Figure size 600x400 with 1 Axes>"
      ]
     },
     "metadata": {},
     "output_type": "display_data"
    }
   ],
   "source": [
    "plt.figure(figsize=(6, 4))\n",
    "plt.plot(cluster_range, inertia, marker='o', linestyle='-')\n",
    "plt.xlabel('Number of Clusters (k)')\n",
    "plt.ylabel('Inertia (WCSS)')\n",
    "plt.title('Elbow Method for Optimal Clusters')\n",
    "plt.show()"
   ]
  },
  {
   "cell_type": "markdown",
   "id": "d1793b86-a5c5-49b9-b30e-9dca233db785",
   "metadata": {},
   "source": [
    "### Apply K-Means Clustering to Group Complaints"
   ]
  },
  {
   "cell_type": "code",
   "execution_count": 10,
   "id": "254c0db7-3bf2-408d-9ed4-9d43a55aee06",
   "metadata": {},
   "outputs": [
    {
     "name": "stdout",
     "output_type": "stream",
     "text": [
      "                                            feedback  cluster\n",
      "0          The product stopped working within a week        0\n",
      "1  The delivery was late by 3 days no update was ...        0\n",
      "2            Customer support was unhelpful and rude        1\n",
      "3           The app crashes frequently please fix it        0\n",
      "4                 Received a wrong item unacceptable        2\n",
      "5  The website is too slow and difficult to navigate        0\n",
      "6     I was charged twice for my order need a refund        0\n",
      "7       The quality is not as advertised looks cheap        0\n",
      "8             Support team takes too long to respond        1\n",
      "9  The payment process is confusing and not user ...        0\n"
     ]
    }
   ],
   "source": [
    "# Train final K-Means model with optimal clusters (k=3)\n",
    "\n",
    "kmeans = KMeans(n_clusters=3, random_state=42, n_init=10)\n",
    "df['cluster'] = kmeans.fit_predict(X)\n",
    "\n",
    "# Display the clustered feedback\n",
    "print(df[['feedback', 'cluster']])\n"
   ]
  },
  {
   "cell_type": "markdown",
   "id": "1a7475e1-c2a0-4003-912f-7d42a1fd1d9b",
   "metadata": {},
   "source": [
    "### Analyze Cluster Results\n",
    "##### Cluster 0: Delivery & Shipping Issues\n",
    "- \"The delivery was delayed by 4 days!\"\n",
    "- \"No update on my order status!\"\n",
    "\n",
    "  \n",
    "### Cluster 1: Product Quality Complaints \n",
    "- \"The product stopped working within a week!\"\n",
    "- \"Received a defective product!\"\n",
    "\n",
    "\n",
    "### Cluster 2: Customer Support & Billing Issues \n",
    "- \"Customer service was rude and unhelpful.\"\n",
    "- \"I was charged twice for the same order.\"\n"
   ]
  },
  {
   "cell_type": "code",
   "execution_count": null,
   "id": "c96697a3-d025-4470-a726-2c188281bce2",
   "metadata": {},
   "outputs": [],
   "source": []
  }
 ],
 "metadata": {
  "kernelspec": {
   "display_name": "Python 3 (ipykernel)",
   "language": "python",
   "name": "python3"
  },
  "language_info": {
   "codemirror_mode": {
    "name": "ipython",
    "version": 3
   },
   "file_extension": ".py",
   "mimetype": "text/x-python",
   "name": "python",
   "nbconvert_exporter": "python",
   "pygments_lexer": "ipython3",
   "version": "3.11.7"
  },
  "widgets": {
   "application/vnd.jupyter.widget-state+json": {
    "state": {},
    "version_major": 2,
    "version_minor": 0
   }
  }
 },
 "nbformat": 4,
 "nbformat_minor": 5
}
